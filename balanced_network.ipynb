{
 "cells": [
  {
   "cell_type": "markdown",
   "metadata": {},
   "source": [
    "# <font color='green'>Dynamics of recurrent network of excitatory and inhbitory neurons</font>"
   ]
  },
  {
   "cell_type": "markdown",
   "metadata": {},
   "source": [
    "## <font color='green'>Aims of the tutorial </font>\n",
    "- Simulate a randomly connected network of excitatory and inhibitory neurons\n",
    "- Study the effect of change in recurrent inhibition on the spiking activity, in particular on spike synchronization and spike pattern irregularity\n",
    "## <font color='green'>Learning outcomes</font>\n",
    "- An understanding of how recurrent inhibition affectx spike synchronization and spike pattern irregularity\n",
    "- A basic understanding of simulation of networks in NEST\n",
    "- An understanding of descriptors of spiking activity of neurons in a network\n",
    "## <font color='green'>What will you do</font>\n",
    "- Execute the Python code and display the results and describe your observations\n",
    "- Write small code snippetes to perform certain simulations or calculations\n"
   ]
  },
  {
   "cell_type": "markdown",
   "metadata": {},
   "source": [
    "## <font color='green'>Random network model of the neocortex</font>\n",
    "At the simplest level every network in the brain is made of either inhibitory neurons or both excitatory and inhibitory neurons. In the neocortex most networks are composed of 70-80% excitatory neurons and 20-30 inhibitory neurons. Of course these neurons can be classified further in different categories. \n",
    "\n",
    "When we think of a network, we need to define the connectivity between nodes (here neurons). Experimental data suggests that in the neocortex average connection probabilty measured over 100$\\mu$m of distance is sparse (about 10%). And at this scale neurons are more or less randomly connected. However, if we go beyond 100$\\mu$m the connection probability start to decay as a function of distance between neurons. And beyond 1cm spatial distance connectivity has very different rules.\n",
    "\n",
    "## Assumptions\n",
    "In this tutorial we will consider one of the simplest model of the neocortical tissue. We will assume that \n",
    "- The network is composed of one type of excitatory and one type of inhibitory neurons\n",
    "- There are 80% excitatory neurons and 20% inhibitory neurons\n",
    "- All neurons have identical properties and are  modelled as integrate-fire-neurons\n",
    "- Neurons are connected in a random fashion with 10% connection probability\n",
    "- All the synapses are current-based and synaptic integration is linear\n",
    "- Neurons are driven by Poisson type spike trains\n",
    "\n",
    "\n",
    "## You might wonder what can we learn from such a simple model? \n",
    "This model is sufficient to understand the emergence of synchonization, oscillation and stability of network activity dynamics. Synchrony and oscillations are ubiqutious properties of brain activity and play important role in encoding and transfer of information in the brain. Moreover, a number of brain diseases are manifested in terms of changes in synchrony and oscillations. For instance. Parkinson's disease is a diseases of increased oscillations. \n",
    "\n",
    "These modellled have successfully and correctly revealed the role of balancing the excitation and inhibition in a network in order to control not only firing rates but also synchrony and oscillations. \n",
    "\n",
    "\n",
    "<img src=\"./Figures/EI-scheme.png\">\n",
    "\n",
    "- $J_{EE}$ connection weight from an excitatory to an exhibitory neuron, $J_{EI}$ connection weight from an inhibitory to an exhibitory neuron, $J_{IE}$ connection weight from an excitatory to an inhibitory neuron, $J_{EI}$ connection weight from an inhibitory to an inhibitory neuron.\n",
    "- We will assume $J_{EE}$ = $J_{IE}$ and $J_{II}$ = $J_{EI}$ (In the code below  $J_{EE} = J_{ex}$ and  $J_{II} = J_{in}$)\n",
    "- We will also assume $J_{EE}$ = $gJ_{II}$. That is $g$ is the ratio of excitation and inhibition\n",
    "- In this tutorial we will keep the external input to the two populations same $E_E = E_I$ (in the code below these parameters are callled eta_ex and eta_in)\n",
    "- This means $E_E$ and $g$ are the key parameters that you will vary in this tutorial and investigate how these two parameters affect the synchrony\n",
    "\n",
    "## Reference \n",
    "- Brunel N, Dynamics of Sparsely Connected Networks of Excitatory and Inhibitory Spiking Neurons, Journal of Computational Neuroscience 8, 183-208 (2000).\n",
    "- Kumar et al. High conductance state of cortial netwokrs. Neural Computations. 20(1):1-43.(2008)\n",
    "- Rennart et al. The asynchronous state in cortical circuits. Science  327(5965): 587–590. (2010)"
   ]
  },
  {
   "cell_type": "markdown",
   "metadata": {},
   "source": [
    "# <font color=blue>Describe</font>\n",
    "### When all the neurons are the same, they are connected randomly and are driven by Poisson type spike trains why do you think that there should be any synchrony or oscillations in the network at all? Or under what conditions this network will synchronize or oscillate if at all?\n"
   ]
  },
  {
   "cell_type": "markdown",
   "metadata": {},
   "source": [
    "### Some preliminaries"
   ]
  },
  {
   "cell_type": "code",
   "execution_count": null,
   "metadata": {},
   "outputs": [],
   "source": [
    "from scipy.optimize import fsolve\n",
    "import numpy as np\n",
    "from numpy import exp\n",
    "import time\n",
    "import matplotlib.pyplot as plt\n",
    "%matplotlib inline\n",
    "\n",
    "import nest"
   ]
  },
  {
   "cell_type": "markdown",
   "metadata": {},
   "source": [
    "#### Definition of functions used in this example. \n",
    "First, define the Lambert W function. This function will be used to calibrate the synaptic weights."
   ]
  },
  {
   "cell_type": "code",
   "execution_count": null,
   "metadata": {},
   "outputs": [],
   "source": [
    "def LambertWm1(x):\n",
    "    nest.sli_push(x)\n",
    "    nest.sli_run('LambertWm1')\n",
    "    y = nest.sli_pop()\n",
    "    return y\n",
    "\n",
    "def ComputePSPnorm(tauMem, CMem, tauSyn):\n",
    "    a = (tauMem / tauSyn)\n",
    "    b = (1.0 / tauSyn - 1.0 / tauMem)\n",
    "\n",
    "    # time of maximum\n",
    "    t_max = 1.0 / b * (-LambertWm1(-exp(-1.0 / a) / a) - 1.0 / a)\n",
    "\n",
    "    # maximum of PSP for current of unit amplitude\n",
    "    return (exp(1.0) / (tauSyn * CMem * b) *\n",
    "            ((exp(-t_max / tauMem) - exp(-t_max / tauSyn)) / b -\n",
    "             t_max * exp(-t_max / tauSyn)))"
   ]
  },
  {
   "cell_type": "code",
   "execution_count": null,
   "metadata": {},
   "outputs": [],
   "source": [
    "# Simulation parameters\n",
    "dt = 0.1    # the resolution in ms\n",
    "simtime = 500.0  # Simulation time in ms\n",
    "delay = 1.5    # synaptic delay in ms"
   ]
  },
  {
   "cell_type": "markdown",
   "metadata": {},
   "source": [
    "### Network size and fraction of exc. and inh. neurons"
   ]
  },
  {
   "cell_type": "code",
   "execution_count": null,
   "metadata": {},
   "outputs": [],
   "source": [
    "order = 1000\n",
    "NE = 4 * order  # number of excitatory neurons\n",
    "NI = 1 * order  # number of inhibitory neurons\n",
    "N_neurons = NE + NI   # number of neurons in total\n",
    "N_rec = 500      # record from 50 neurons"
   ]
  },
  {
   "cell_type": "markdown",
   "metadata": {},
   "source": [
    "### Parameters describing the global synchrony and balance\n",
    "-- By varying these parameters we can modulate synchrony and oscillations"
   ]
  },
  {
   "cell_type": "code",
   "execution_count": null,
   "metadata": {},
   "outputs": [],
   "source": [
    "g = 5.0  # ratio inhibitory weight/excitatory weight\n",
    "eta_ex = 2.5  # external rate relative to threshold rate --> Exc. Neurons\n",
    "eta_in = 2.5  # external rate relative to threshold rate --> Inh. Neurons\n",
    "epsilon = 0.1  # connection probability"
   ]
  },
  {
   "cell_type": "markdown",
   "metadata": {},
   "source": [
    "### Network connectivity"
   ]
  },
  {
   "cell_type": "code",
   "execution_count": null,
   "metadata": {},
   "outputs": [],
   "source": [
    "CE = int(epsilon * NE)  # number of excitatory synapses per neuron\n",
    "CI = int(epsilon * NI)  # number of inhibitory synapses per neuron\n",
    "C_tot = int(CI + CE)      # total number of synapses per neuron"
   ]
  },
  {
   "cell_type": "markdown",
   "metadata": {},
   "source": [
    "### Neuron and synapse parameters"
   ]
  },
  {
   "cell_type": "code",
   "execution_count": null,
   "metadata": {},
   "outputs": [],
   "source": [
    "tauSyn = 0.5  # synaptic time constant in ms\n",
    "tauMem = 20.0  # time constant of membrane potential in ms\n",
    "CMem = 250.0  # capacitance of membrane in in pF\n",
    "theta = 20.0  # membrane threshold potential in mV\n",
    "neuron_params = {\"C_m\": CMem,\n",
    "                 \"tau_m\": tauMem,\n",
    "                 \"tau_syn_ex\": tauSyn,\n",
    "                 \"tau_syn_in\": tauSyn,\n",
    "                 \"t_ref\": 2.0,\n",
    "                 \"E_L\": 0.0,\n",
    "                 \"V_reset\": 0.0,\n",
    "                 \"V_m\": 0.0,\n",
    "                 \"V_th\": theta}\n",
    "J = 0.1        # postsynaptic amplitude in mV\n",
    "J_unit = ComputePSPnorm(tauMem, CMem, tauSyn)\n",
    "J_ex = J / J_unit  # amplitude of excitatory postsynaptic current\n",
    "J_in = -g * J_ex    # amplitude of inhibitory postsynaptic current"
   ]
  },
  {
   "cell_type": "markdown",
   "metadata": {},
   "source": [
    "### Inpute rate"
   ]
  },
  {
   "cell_type": "code",
   "execution_count": null,
   "metadata": {
    "scrolled": true
   },
   "outputs": [],
   "source": [
    "nu_th = (theta * CMem) / (J_ex * CE * np.exp(1) * tauMem * tauSyn)\n",
    "nu_ex = eta_ex * nu_th # to excitatory neurons\n",
    "p_rate_ex = 1000.0 * nu_ex * CE\n",
    "\n",
    "nu_in = eta_in * nu_th # To inhibitory neurons\n",
    "p_rate_in = 1000.0 * nu_in * CE"
   ]
  },
  {
   "cell_type": "markdown",
   "metadata": {},
   "source": [
    "### Network buildup and default parameters\n",
    "(If you change some parameter above it is useful to reset the kernel and start simultion from zero)"
   ]
  },
  {
   "cell_type": "code",
   "execution_count": null,
   "metadata": {
    "scrolled": true
   },
   "outputs": [],
   "source": [
    "nest.ResetKernel()\n",
    "nest.SetKernelStatus({\"resolution\": dt, \"print_time\": True,\n",
    "                      \"overwrite_files\": True})\n",
    "\n",
    "print(\"Building network\")\n",
    "\n",
    "nest.SetDefaults(\"iaf_psc_alpha\", neuron_params)\n",
    "nest.SetDefaults(\"poisson_generator\", {\"rate\": p_rate_ex})\n"
   ]
  },
  {
   "cell_type": "markdown",
   "metadata": {},
   "source": [
    "### Create neurons and spike detectors"
   ]
  },
  {
   "cell_type": "code",
   "execution_count": null,
   "metadata": {},
   "outputs": [],
   "source": [
    "nodes_ex = nest.Create(\"iaf_psc_alpha\", NE)\n",
    "nodes_in = nest.Create(\"iaf_psc_alpha\", NI)\n",
    "noise_ex = nest.Create(\"poisson_generator\")\n",
    "noise_in = nest.Create(\"poisson_generator\")\n",
    "espikes = nest.Create(\"spike_detector\")\n",
    "ispikes = nest.Create(\"spike_detector\")\n",
    "multimeter = nest.Create(\"multimeter\")"
   ]
  },
  {
   "cell_type": "markdown",
   "metadata": {},
   "source": [
    "### Change spike threshold of a few neurons "
   ]
  },
  {
   "cell_type": "code",
   "execution_count": null,
   "metadata": {},
   "outputs": [],
   "source": [
    "# neuron id 0 and neuron id 1 willnot spike because the spike threshold is too high \n",
    "#and we can see the free membrane potential\n",
    "nest.SetStatus([nodes_ex[0]],{'V_th':1e4})\n",
    "nest.SetStatus([nodes_ex[1]],{'V_th':1e4})"
   ]
  },
  {
   "cell_type": "markdown",
   "metadata": {},
   "source": [
    "### Configure the spike detector"
   ]
  },
  {
   "cell_type": "code",
   "execution_count": null,
   "metadata": {},
   "outputs": [],
   "source": [
    "nest.SetStatus(espikes, [{\"label\": \"EInet-ex\",\n",
    "                          \"withtime\": True,\n",
    "                          \"withgid\": True,\n",
    "                          \"to_file\": True}])\n",
    "\n",
    "nest.SetStatus(ispikes, [{\"label\": \"EInet-in\",\n",
    "                          \"withtime\": True,\n",
    "                          \"withgid\": True,\n",
    "                          \"to_file\": True}])\n",
    "nest.SetStatus(multimeter, {\"label\": \"EInet-mem\",\n",
    "                            \"withtime\":True,\n",
    "                            \"to_file\": True,\n",
    "                            \"record_from\":[\"V_m\"]})\n",
    "\n",
    "print(\"Connecting devices\")\n",
    "# The data will be saved in a file as well as in the memory"
   ]
  },
  {
   "cell_type": "markdown",
   "metadata": {},
   "source": [
    "### Synaptic weights"
   ]
  },
  {
   "cell_type": "code",
   "execution_count": null,
   "metadata": {},
   "outputs": [],
   "source": [
    "nest.CopyModel(\"static_synapse\", \"excitatory\",\n",
    "               {\"weight\": J_ex, \"delay\": delay})\n",
    "nest.CopyModel(\"static_synapse\", \"inhibitory\",\n",
    "               {\"weight\": J_in, \"delay\": delay})"
   ]
  },
  {
   "cell_type": "markdown",
   "metadata": {},
   "source": [
    "### Connect the noise"
   ]
  },
  {
   "cell_type": "code",
   "execution_count": null,
   "metadata": {},
   "outputs": [],
   "source": [
    "nest.Connect(noise_ex, nodes_ex, syn_spec=\"excitatory\")\n",
    "nest.Connect(noise_in, nodes_in, syn_spec=\"excitatory\")"
   ]
  },
  {
   "cell_type": "markdown",
   "metadata": {},
   "source": [
    "### Connect the neurons to recording devices"
   ]
  },
  {
   "cell_type": "code",
   "execution_count": null,
   "metadata": {},
   "outputs": [],
   "source": [
    "nest.Connect(nodes_ex[:N_rec], espikes, syn_spec=\"excitatory\")\n",
    "nest.Connect(nodes_in[:N_rec], ispikes, syn_spec=\"excitatory\")\n",
    "nest.Connect(multimeter,nodes_ex[0:3])\n",
    "\n",
    "print(\"Connecting network\")"
   ]
  },
  {
   "cell_type": "markdown",
   "metadata": {},
   "source": [
    "### Connect the network"
   ]
  },
  {
   "cell_type": "code",
   "execution_count": null,
   "metadata": {},
   "outputs": [],
   "source": [
    "np.random.seed(1234)\n",
    "\n",
    "sources_ex = np.random.randint(1, NE + 1, (N_neurons, CE))\n",
    "sources_in = np.random.randint(NE + 1, N_neurons + 1, (N_neurons, CI))\n",
    "\n",
    "for n in range(N_neurons):\n",
    "    nest.Connect(list(sources_ex[n]), [n + 1], syn_spec=\"excitatory\")\n",
    "\n",
    "for n in range(N_neurons):\n",
    "    nest.Connect(list(sources_in[n]), [n + 1], syn_spec=\"inhibitory\")\n",
    "\n",
    "endbuild = time.time()"
   ]
  },
  {
   "cell_type": "markdown",
   "metadata": {},
   "source": [
    "### Simulate\n",
    "(if you start the simulation without resetting the kernel the simulation clock willstart from where it was at the end of last simulation)"
   ]
  },
  {
   "cell_type": "code",
   "execution_count": null,
   "metadata": {
    "scrolled": true
   },
   "outputs": [],
   "source": [
    "print(\"Simulating\")\n",
    "\n",
    "nest.Simulate(simtime)\n",
    "endsimulate = time.time()"
   ]
  },
  {
   "cell_type": "markdown",
   "metadata": {},
   "source": [
    "### Read the spiking activity"
   ]
  },
  {
   "cell_type": "code",
   "execution_count": null,
   "metadata": {},
   "outputs": [],
   "source": [
    "## Uncomment the following if you want to read the spikes from the memory \n",
    "# and comment last line which reads the data from the file\n",
    "\n",
    "#events_ex = nest.GetStatus(espikes, \"n_events\")[0]\n",
    "#events_in = nest.GetStatus(ispikes, \"n_events\")[0]\n",
    "\n",
    "# When reading from the file\n",
    "# Note that the file number depends on the number of devices in the simulation.\n",
    "# In this case file number is N+3 where N is the number of total neurons\n",
    "xx = np.loadtxt('EInet-ex-5003-0.gdf') "
   ]
  },
  {
   "cell_type": "markdown",
   "metadata": {},
   "source": [
    "### Read the membrane potential"
   ]
  },
  {
   "cell_type": "code",
   "execution_count": null,
   "metadata": {},
   "outputs": [],
   "source": [
    "# When reading from the file\n",
    "# Note that the file number depends on the number of devices in the simulation.\n",
    "# In this case file number is N+5 where N is the number of total neurons\n",
    "\n",
    "# In .dat file first column is neuron id, second column is time stamp and thethird column is membrane potential\n",
    "mem = np.loadtxt('EInet-mem-5005-0.dat')\n",
    "mem1 = mem[mem[:,0]==1,:] # neuron 1\n",
    "mem2 = mem[mem[:,0]==2,:] # neuron 2\n",
    "mem3 = mem[mem[:,0]==3,:] # neuron 3\n"
   ]
  },
  {
   "cell_type": "markdown",
   "metadata": {},
   "source": [
    "### Plot the spiking activity"
   ]
  },
  {
   "cell_type": "code",
   "execution_count": null,
   "metadata": {},
   "outputs": [],
   "source": [
    "# Plot the data \n",
    "plt.figure(figsize=(20, 10))\n",
    "plt.subplot(2,1,1)\n",
    "plt.plot(xx[:,1],xx[:,0],'.')\n",
    "plt.ylim([0,50])\n",
    "plt.xlim([0,simtime])\n",
    "plt.xlabel('Time (msec)')\n",
    "plt.ylabel('Neuron Id.')\n",
    "\n",
    "\n",
    "plt.subplot(2,1,2)\n",
    "plt.plot(mem1[:,1],mem1[:,2],label='neuron 1')\n",
    "plt.plot(mem2[:,1],mem2[:,2],label='neuron 2')\n",
    "plt.plot(mem3[:,1],mem3[:,2],label='neuron 3')\n",
    "plt.plot([0, simtime],[20, 20],label='spike threshold')\n",
    "plt.ylim([0,50])\n",
    "plt.legend()\n",
    "plt.xlim([0,simtime])\n",
    "plt.xlabel('Time (msec)')\n",
    "plt.ylabel('Membrane potential (mV)')\n",
    "plt.show()"
   ]
  },
  {
   "cell_type": "markdown",
   "metadata": {},
   "source": [
    "# <font color=blue>Describe</font>\n",
    "#### In the plot above you see the spiking activity of 50 excitatory neurons (out of 1000). Each dot is a spike and each row is a neuron. Such plots are called raster plots.\n",
    "\n",
    "- Did you expect the above result?\n",
    "- How will you quantify these results?\n",
    "- What does the membrane potential suggests when you compare the membrane potentials of the two neurons that do now spike"
   ]
  },
  {
   "cell_type": "markdown",
   "metadata": {},
   "source": [
    "### Lets plot the spiking activity again with more neurons"
   ]
  },
  {
   "cell_type": "code",
   "execution_count": null,
   "metadata": {},
   "outputs": [],
   "source": [
    "# Plot the data \n",
    "plt.figure(figsize=(20, 5))\n",
    "plt.plot(xx[:,1],xx[:,0],'.')\n",
    "plt.ylim([0,500])\n",
    "plt.xlim([0,simtime])\n",
    "plt.xlabel('Time (msec)')\n",
    "plt.ylabel('Neuron Id.')\n",
    "\n",
    "plt.show()"
   ]
  },
  {
   "cell_type": "markdown",
   "metadata": {},
   "source": [
    "# <font color=blue>Describe</font>\n",
    "#### In the plot above you see the spiking activity of 500 excitatory neurons (out of 1000). Each dot is a spike and each row is a neuron. Such plots are called raster plots.\n",
    "\n",
    "- Did you expect the above result after seeing the plot above? Write your reasoning.\n",
    "\n",
    "- Why is there a big synchronous event at the beginning? What can we do to get rid of this?\n",
    "- How will you quantify the properties of the spiking activty shown in the figure above?\n"
   ]
  },
  {
   "cell_type": "markdown",
   "metadata": {},
   "source": [
    "# <font color=green>Lets do some quantification of neuron firing rate and patterns</font>\n",
    "### We can count the spikes of each neuron and estimate average firing rate and distribution of spike rates"
   ]
  },
  {
   "cell_type": "code",
   "execution_count": null,
   "metadata": {},
   "outputs": [],
   "source": [
    "# Count rate of each neuron. For this we take advantage of the gdf file format\n",
    "# In the gdf file, first column is neuron id and second column records when that neuron spiked. \n",
    "# Each spike is a single line enetry\n",
    "# So to estimate the firing rate of each neuron we need to count how often a neuron appears in the first column\n",
    "# First lets reject first 100 ms to get rid of the startup transient\n",
    "\n",
    "xx = xx[xx[:,1]>100,:]\n",
    "fr_ed = np.arange(1,501,1)\n",
    "frh,tmp = np.histogram(xx[:,0],fr_ed)\n",
    "\n",
    "sp_rate = 1e3*frh/(simtime-100)\n",
    "mean_fr = np.mean(sp_rate) # mean firing rate\n",
    "std_fr = np.std(sp_rate) # std of the firing rate\n"
   ]
  },
  {
   "cell_type": "markdown",
   "metadata": {},
   "source": [
    "# <font color=salmon>TO DO</font>\n",
    "- Plot the distribution of firing rates"
   ]
  },
  {
   "cell_type": "markdown",
   "metadata": {},
   "source": [
    "### Besides counting the spikes, we can also ask how regularly neurons are spiking. A clock is something that ticks regular. So we can do neurons spike regularly like a clock."
   ]
  },
  {
   "cell_type": "code",
   "execution_count": null,
   "metadata": {},
   "outputs": [],
   "source": [
    "# Lets get the interspike intervals of each neuron\n",
    "sel_neuron = 100\n",
    "cv = np.empty(sel_neuron)\n",
    "for ii in range(sel_neuron):\n",
    "    x1 = xx[xx[:,0]==ii,:] # select a neuron\n",
    "    if len(x1[:,1])>3:\n",
    "        isi = np.diff(x1[:,1]) # get the interspike intervals\n",
    "        cv[ii] = np.std(isi)/np.mean(isi)\n",
    "\n",
    "mean_cv = np.nanmean(cv)\n",
    "\n",
    "print(mean_cv)"
   ]
  },
  {
   "cell_type": "markdown",
   "metadata": {},
   "source": [
    "# <font color=salmon>TO DO</font>\n",
    "- Run a longer simulation (e.g. 5000ms) and plot the distribution of spike times of a single neurons\n"
   ]
  },
  {
   "cell_type": "markdown",
   "metadata": {},
   "source": [
    "# <font color=green>Lets do some quantification of activity as a population</font>"
   ]
  },
  {
   "cell_type": "markdown",
   "metadata": {},
   "source": [
    "### First we estimate the population firing rate"
   ]
  },
  {
   "cell_type": "code",
   "execution_count": null,
   "metadata": {},
   "outputs": [],
   "source": [
    "\n",
    "bin_size = 2\n",
    "ed = np.arange(100,simtime,bin_size)\n",
    "hh,edx = np.histogram(xx[:,1],ed)\n",
    "hh = hh/(bin_size*1e-3)/np.float(N_rec)"
   ]
  },
  {
   "cell_type": "code",
   "execution_count": null,
   "metadata": {},
   "outputs": [],
   "source": [
    "plt.figure(figsize=(20, 10))\n",
    "plt.subplot(2,1,1)\n",
    "plt.plot(xx[:,1],xx[:,0],'.')\n",
    "plt.xlim([100,simtime])\n",
    "plt.ylabel('Neuron Id.')\n",
    "\n",
    "plt.subplot(2,1,2)\n",
    "plt.plot(ed[:-1],hh)\n",
    "plt.xlim([100,simtime])\n",
    "plt.xlabel('Time (msec)')\n",
    "plt.ylabel('Firing rate')\n",
    "\n",
    "plt.show()"
   ]
  },
  {
   "cell_type": "markdown",
   "metadata": {},
   "source": [
    "# <font color=blue>Describe</font>\n",
    "#### In the plot above you see theraster of 500 excitatory neurons (out of 1000). In the plot below we have the number of spikes counted in bins of 2ms. This is called the population firing rate\n",
    "\n",
    "- What does this plot tell us?\n",
    "- Does it mean anything that the average population firing rate is comparable to the average neuron firing rate?\n",
    "- Can we use the above traces to estimate synchronization in the network?\n"
   ]
  },
  {
   "cell_type": "markdown",
   "metadata": {},
   "source": [
    "# <font color=green>Measure of population synchrony</font>\n",
    "#### Ideally to measure synchrony we should measure cross correlation between each pair of spike trains. This is a bit slow as we need to measure for so many different pairs -- $N^2$. \n",
    "#### There is another way to estimate whether the network has synchronized or not?\n",
    "#### If there are synchronous spikes then a lot of neurons will spike together and go into refractoriness together. That means that synchronization will result in higher than expected variance of the population average. That is, we can estimate the variance of the population activity. However, when we have a Poisson process which by definition is an uncorrelated (not synchronized) population activity variance increases with population activity mean. That is, if firing rate increase we expected higher variance. So we need to normalize the popultion variance by its mean. The ratio variance/mean is called *Fano  Factor* and it is 'one' for a Poisson process. Here we are binning the data so Fano Factor does depend on the bin size. Nevertheless it is a very good measure of syhchrony."
   ]
  },
  {
   "cell_type": "markdown",
   "metadata": {},
   "source": [
    "### Lets measure the Fano factor"
   ]
  },
  {
   "cell_type": "code",
   "execution_count": null,
   "metadata": {},
   "outputs": [],
   "source": [
    "FF = np.var(hh)/np.mean(hh)\n",
    "print(FF)"
   ]
  },
  {
   "cell_type": "markdown",
   "metadata": {},
   "source": [
    "# <font color=green>Descriptors of Network activity dynamics</font>\n",
    "#### CV describes the single neuron firing patterns -- when CV is close to zero, neurons spike in a regular (R) manner, when CV is close to one, neurons spike in an irregular (I) manner.\n",
    "#### FF describes the poopulation firing behavior -- when FF is close to one, population of neurons is near Poissonian and therefore Asynchronous (A), when FF is greater than one, neurons synchronize (S).\n",
    "## Thus, we can define a network activity as AI, AR, SI and SR\n",
    "### Of these four states AI and SI are often observed in healthy state. SR and AR usually indicate abnormal dynamics. Too much synchrony is also considered unhealthy."
   ]
  },
  {
   "cell_type": "code",
   "execution_count": null,
   "metadata": {},
   "outputs": [],
   "source": []
  },
  {
   "cell_type": "markdown",
   "metadata": {},
   "source": [
    "# <font color=salmon>TO DO</font>\n",
    "- Vary the network parameters g and eta_ex and study how the network activity state changes.\n",
    "(In these network when g > 4 we call this as a inhibition dominated regime. The number 4 arises becaue the ratio of exc and inh ratio is 4)\n"
   ]
  },
  {
   "cell_type": "code",
   "execution_count": null,
   "metadata": {},
   "outputs": [],
   "source": []
  }
 ],
 "metadata": {
  "kernelspec": {
   "display_name": "Python 3",
   "language": "python",
   "name": "python3"
  },
  "language_info": {
   "codemirror_mode": {
    "name": "ipython",
    "version": 3
   },
   "file_extension": ".py",
   "mimetype": "text/x-python",
   "name": "python",
   "nbconvert_exporter": "python",
   "pygments_lexer": "ipython3",
   "version": "3.6.8"
  }
 },
 "nbformat": 4,
 "nbformat_minor": 2
}
