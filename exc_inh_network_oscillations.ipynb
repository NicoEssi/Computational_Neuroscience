{
 "cells": [
  {
   "cell_type": "markdown",
   "metadata": {},
   "source": [
    "# Oscillations in the STN-GPe subnetwork of Basal ganglia\n",
    "\n",
    "To understand how a network of inhinbitory and excitatory neurons can generate oscilltions we will take the example of a model the oscillations observed in the basal ganglia. In Parkinson's disease, loss of dopamine alters some properties of spiking activity in the striatum leads to oscillations in the subthalamic nuclues (STN) and Globus Pallidus externa (GPE). STN is a network of excitatory neurons while GPE is a population of inhihibitory neurons.\n",
    "<img src=\"./Figures/str_gpe_stn.png\">\n"
   ]
  },
  {
   "cell_type": "markdown",
   "metadata": {},
   "source": [
    "## <font color='green'>Aims of the tutorial </font>\n",
    "- Simulate a model of STN-GPE network\n",
    "- Investigate the conditions under which oscillations arise\n",
    "## <font color='green'>Learning outcomes</font>\n",
    "- An understanding of the origin of oscillations\n",
    "- A basic understanding of simulation of networks in NEST\n",
    "- An understanding of oscillatory activity of neurons in a network\n",
    "## <font color='green'>What will you do</font>\n",
    "- Execute the Python code and display the results and describe your observations\n",
    "- Write small code snippetes to perform certain simulations or calculations"
   ]
  },
  {
   "cell_type": "markdown",
   "metadata": {},
   "source": [
    "## <font color='green'>Oscillations in a network of excitatory and inhibitory neurons: Heuristics</font>\n",
    "<img src=\"./Figures/oscillation_sign_rule.png\">\n",
    "\n",
    "#### The oscillation sign rule works in the following manner:\n",
    "#### Lets call the excitatory population as +, and excitatory input as +\n",
    "#### Lets call the inhibitory population as -, and inhibitory input as -\n",
    "#### Now to know if a particular input will enhance or supress oscillations we need to multiply the sign of neuron population and its input\n",
    "#### e.g. excitation of excitatory neurons will increase oscillations but inhibition of excitatory neurons wil lead to reduction in oscillations\n",
    "#### We will us this heuristics (derived from Lotka-Volterra model) to study how excitation and inibition affect oscillations."
   ]
  },
  {
   "cell_type": "markdown",
   "metadata": {},
   "source": [
    "# Betaband oscillations in the STN-GPe subnetworks of Basal ganglia\n",
    "\n",
    "There are two key mechanisms by STN-GPE can enter into state of oscillations.\n",
    "1. The connectivity between STN and GPE is increased such that the inhibition within GPE is greater than the effective excitation from STN\n",
    "You can simulate this by changign the synapses:\n",
    "\n",
    "-- j_stn_gpe = 1.2 # connection from STN to GPE\n",
    "\n",
    "---j_gpe_stn = -1.13 5# connection from GPE to STN\n",
    "\n",
    "Both have to be increased to create oscillations\n",
    "\n",
    "\n",
    "2. Another possibility is that GPE is over inhibited by the striatum. The theory suggests that inhibition of inhibitory neurons or excitation of excitatory neurons will lead to oscillations. By contrast excitation of inhibitory neurons or inhibitio of excitatory neurons will stop or weaken oscillations\n",
    "You can simulate this by changing the parameters:\n",
    "\n",
    "-- poi_rate_bkg_gpe -> increase will reduce oscillations\n",
    "\n",
    "-- poi_rate_bkg_stn -> increase will enhance oscillations\n",
    "\n",
    "-- poi_rate_bkg_str -> increase will enhance oscillations\n",
    "\n",
    "\n",
    "** Reference \n",
    "\n",
    "- Kumar A, Cardanobile S, Rotter S and Aertsen A (2011) The role of inhibition in generating and controlling Parkinson’s disease oscillations in the basal ganglia. Front. Syst. Neurosci. 5:86. doi: 10.3389/fnsys.2011.00086\n",
    "- Holgado, A. J. N., Terry, J. R., and Bogacz, R. (2010). Conditions for the generation of beta oscillations in the subthalamic nucleus-globus pallidus network. J. Neurosci. 30, 12340–12352.\n",
    "- Terman, D., Rubin, J. E., Yew, A. C., and Wilson, C. J. (2002). Activity patterns in a model for the subthalamopallidal network of the basal ganglia. J. Neurosci. 22, 2963–2976.\n"
   ]
  },
  {
   "cell_type": "markdown",
   "metadata": {},
   "source": [
    "### Some preliminaries"
   ]
  },
  {
   "cell_type": "code",
   "execution_count": null,
   "metadata": {},
   "outputs": [],
   "source": [
    "from scipy.optimize import fsolve\n",
    "import numpy as np\n",
    "from numpy import exp\n",
    "import time\n",
    "import matplotlib.pyplot as plt\n",
    "%matplotlib inline\n",
    "\n",
    "import nest"
   ]
  },
  {
   "cell_type": "code",
   "execution_count": null,
   "metadata": {},
   "outputs": [],
   "source": [
    "# Simulation parameters\n",
    "dt = 0.1    # the resolution in ms\n",
    "delay = 1.5    # synaptic delay in ms\n",
    "\n",
    "nest.ResetKernel()\n",
    "nest.SetKernelStatus({\"resolution\": dt, \"print_time\": True,\n",
    "                      \"overwrite_files\": True})"
   ]
  },
  {
   "cell_type": "markdown",
   "metadata": {},
   "source": [
    "### STN-GPE Network: default parameters"
   ]
  },
  {
   "cell_type": "code",
   "execution_count": null,
   "metadata": {},
   "outputs": [],
   "source": [
    "simtime = 1500. # Simulation Duration\n",
    "\n",
    "# Size of the GPE and STN\n",
    "Ngpe = 2000 # Number of GPE Neurons\n",
    "Nstn = 1000 # Number of STN Neurons\n",
    "\n",
    "# Input to different populations\n",
    "\n",
    "poi_rate_bkg_gpe = 1500. # will give a baseline of ~45 Hz\n",
    "poi_rate_bkg_stn = 1400. # will give a baseline of ~15 Hz\n",
    "poi_rate_bkg_str = 500. # will generate oscillations\n",
    "poi_rate_dbs = 500. # will quench oscillations\n",
    "\n",
    "# Connectivity\n",
    "cp_stn_stn = 0.02\n",
    "cp_stn_gpe = 0.02\n",
    "cp_gpe_stn = 0.02\n",
    "cp_gpe_gpe = 0.02\n",
    "\n",
    "# Weights\n",
    "j_stn_stn = 1.2 # == 1.3mV at -70\n",
    "j_stn_gpe = 1.2 # == 1.3mV at -70\n",
    "j_gpe_gpe = -0.725 # == 0.45mV at -55\n",
    "j_gpe_stn = -1.135 # == -0.7mV at -55\n",
    "\n",
    "# delays\n",
    "del_stn_stn = 2.\n",
    "del_stn_gpe = 5.\n",
    "del_gpe_gpe = 2.\n",
    "del_gpe_stn = 5."
   ]
  },
  {
   "cell_type": "markdown",
   "metadata": {},
   "source": [
    "### Parameters describing the global synchrony and balance\n",
    "-- By varying these parameters we can modulate synchrony and oscillations"
   ]
  },
  {
   "cell_type": "code",
   "execution_count": null,
   "metadata": {},
   "outputs": [],
   "source": [
    "poi_rate_bkg_gpe = 1600. # will give a baseline of ~45 Hz\n",
    "poi_rate_bkg_stn = 1400. # will give a baseline of ~15 Hz\n",
    "poi_rate_bkg_str = 2000. # will generate oscillations\n",
    "poi_rate_dbs = 500. # will quench oscillations\n",
    "\n",
    "# Weights\n",
    "j_stn_stn = 1.2 # == 1.3mV at -70\n",
    "j_stn_gpe = 1.2 # == 1.3mV at -70\n",
    "j_gpe_gpe = -0.725 # == 0.45mV at -55\n",
    "j_gpe_stn = -1.135 # == -0.7mV at -55"
   ]
  },
  {
   "cell_type": "markdown",
   "metadata": {},
   "source": [
    "### Create Neurons with conductance based synapses"
   ]
  },
  {
   "cell_type": "code",
   "execution_count": null,
   "metadata": {},
   "outputs": [],
   "source": [
    "neuron_param = {'V_th':-54.0, \n",
    "                'V_reset': -70.0, \n",
    "                't_ref': 5.0, \n",
    "                'g_L':10.0,\n",
    "                'C_m':200.0, \n",
    "                'E_ex': 0.0, \n",
    "                'E_in': -80.0, \n",
    "                'tau_syn_ex':5.0,\n",
    "                'tau_syn_in': 10.0,\n",
    "                'tau_minus':20.0}\n",
    "gp_neurons = nest.Create('iaf_cond_exp',Ngpe,neuron_param)\n",
    "st_neurons = nest.Create('iaf_cond_exp',Nstn,neuron_param)"
   ]
  },
  {
   "cell_type": "markdown",
   "metadata": {},
   "source": [
    "### Connect the neurons to spike detectors"
   ]
  },
  {
   "cell_type": "code",
   "execution_count": null,
   "metadata": {},
   "outputs": [],
   "source": [
    "# Spike detectors\n",
    "gp_sd = nest.Create(\"spike_detector\", 1)\n",
    "st_sd = nest.Create(\"spike_detector\", 1)\n",
    "nest.SetStatus(gp_sd,[{\"label\": \"GPE\",\n",
    "                       \"withtime\": True,\n",
    "                       \"withgid\": True,\n",
    "                       \"to_file\": True}])\n",
    "nest.SetStatus(st_sd,[{\"label\": \"STN\",\n",
    "                       \"withtime\": True,\n",
    "                       \"withgid\": True,\n",
    "                       \"to_file\": True}])\n",
    "\n",
    "print(\"Connecting devices\")\n",
    "# record spikes\n",
    "\n",
    "nest.Connect(gp_neurons,gp_sd)\n",
    "nest.Connect(st_neurons,st_sd)"
   ]
  },
  {
   "cell_type": "markdown",
   "metadata": {},
   "source": [
    "### Connect external input to the STN and GPE neurons"
   ]
  },
  {
   "cell_type": "code",
   "execution_count": null,
   "metadata": {},
   "outputs": [],
   "source": [
    "nest.CopyModel(\"static_synapse\", \"poi_excitatory\",\n",
    "               {\"weight\": 1.0, \"delay\": 1.0})\n",
    "#PG to GPE\n",
    "pg_gen_gpe = nest.Create('poisson_generator',1,{'rate':poi_rate_bkg_gpe})\n",
    "nest.Connect(pg_gen_gpe,gp_neurons,syn_spec=\"poi_excitatory\")\n",
    "# PG TO STN\n",
    "pg_gen_stn = nest.Create('poisson_generator',1,{'rate':poi_rate_bkg_stn})\n",
    "nest.Connect(pg_gen_stn,st_neurons,syn_spec=\"poi_excitatory\")"
   ]
  },
  {
   "cell_type": "markdown",
   "metadata": {},
   "source": [
    "### Simulate PD by increasing Striatum firing rates\n",
    "(Striatum input is switched on at 500ms)"
   ]
  },
  {
   "cell_type": "code",
   "execution_count": null,
   "metadata": {
    "scrolled": false
   },
   "outputs": [],
   "source": [
    "nest.CopyModel(\"static_synapse\", \"poi_inhibitory\",\n",
    "               {\"weight\": -1.0, \"delay\": 1.0})\n",
    "pg_gen_str = nest.Create('poisson_generator',1,{'rate':poi_rate_bkg_str, 'start':500.,'stop':3000.})\n",
    "print (\"Connecting Striatum -- PD Condition\")\n",
    "#PG to GPE\n",
    "nest.Connect(pg_gen_str,gp_neurons,syn_spec=\"poi_inhibitory\")\n"
   ]
  },
  {
   "cell_type": "markdown",
   "metadata": {},
   "source": [
    "### Connect STN and GPE neurons"
   ]
  },
  {
   "cell_type": "code",
   "execution_count": null,
   "metadata": {},
   "outputs": [],
   "source": [
    "syn_stn_stn = int(Nstn*cp_stn_stn)   \n",
    "syn_stn_gpe = int(Ngpe*cp_stn_gpe)\n",
    "syn_gpe_gpe = int(Ngpe*cp_gpe_gpe)\n",
    "syn_gpe_stn = int(Nstn*cp_gpe_stn)\n",
    "\n",
    "conn_dict_stn2stn = {\"rule\": \"fixed_indegree\", \"indegree\": syn_stn_stn}\n",
    "conn_dict_stn2gpe = {\"rule\": \"fixed_indegree\", \"indegree\": syn_stn_gpe}\n",
    "conn_dict_gpe2stn = {\"rule\": \"fixed_indegree\", \"indegree\": syn_gpe_stn}\n",
    "conn_dict_gpe2gpe = {\"rule\": \"fixed_indegree\", \"indegree\": syn_gpe_gpe}\n",
    "\n",
    "syn_dict_stn2stn = {\"delay\": del_stn_gpe, \"weight\": j_stn_stn}\n",
    "syn_dict_stn2gpe = {\"delay\": del_stn_gpe, \"weight\": j_stn_gpe}\n",
    "syn_dict_gpe2stn = {\"delay\": del_gpe_stn, \"weight\": j_gpe_stn}\n",
    "syn_dict_gpe2gpe = {\"delay\": del_gpe_gpe, \"weight\": j_gpe_gpe}\n",
    "\n",
    "print ('STN GPE Connect')\n",
    "# random connectivity, synapse numbers\n",
    "print (syn_stn_stn)\n",
    "print (syn_stn_gpe)\n",
    "print (syn_gpe_gpe)\n",
    "print (syn_gpe_stn)\n",
    "# STN-STN == No connections\n",
    "print ('Connect STN-STN')\n",
    "#nest.Connect(st_neurons,st_neurons,conn_dict_stn2stn, syn_dict_stn2stn)\n",
    "print ('Connect STN-GPE')\n",
    "nest.Connect(st_neurons,gp_neurons,conn_dict_stn2gpe, syn_dict_stn2gpe)\n",
    "print ('Connect GPE-STN')\n",
    "nest.Connect(gp_neurons,st_neurons,conn_dict_gpe2stn, syn_dict_gpe2stn)\n",
    "print ('Connect GPE-GPE')\n",
    "nest.Connect(gp_neurons,gp_neurons,conn_dict_gpe2gpe, syn_dict_gpe2gpe)"
   ]
  },
  {
   "cell_type": "markdown",
   "metadata": {},
   "source": [
    "### Simulate"
   ]
  },
  {
   "cell_type": "code",
   "execution_count": null,
   "metadata": {},
   "outputs": [],
   "source": [
    "print(\"Simulating\")\n",
    "nest.Simulate(simtime)"
   ]
  },
  {
   "cell_type": "markdown",
   "metadata": {},
   "source": [
    "### Read and plot the spiking activity"
   ]
  },
  {
   "cell_type": "code",
   "execution_count": null,
   "metadata": {},
   "outputs": [],
   "source": [
    "xx_stn = np.loadtxt('STN-3002-0.gdf')\n",
    "xx_gpe = np.loadtxt('GPE-3001-0.gdf')\n",
    "\n",
    "bin_size = 5\n",
    "ed = np.arange(0,simtime,bin_size)\n",
    "hh_stn,edx = np.histogram(xx_stn[:,1],ed)\n",
    "hh_stn = hh_stn/(bin_size*1e-3)/np.float(Nstn)\n",
    "\n",
    "hh_gpe,edx = np.histogram(xx_gpe[:,1],ed)\n",
    "hh_gpe = hh_gpe/(bin_size*1e-3)/np.float(Ngpe)"
   ]
  },
  {
   "cell_type": "code",
   "execution_count": null,
   "metadata": {},
   "outputs": [],
   "source": [
    "x_lim = [100,800]\n",
    "plt.figure(figsize=(20, 20))\n",
    "plt.subplot(4,1,1)\n",
    "plt.plot(xx_gpe[:,1],xx_gpe[:,0],'.',ms=2,color='r')\n",
    "plt.xlim(x_lim)\n",
    "plt.ylabel('Neuron Id.')\n",
    "\n",
    "plt.subplot(4,1,2)\n",
    "plt.plot(ed[:-1],hh_gpe,color='r',label='GPE')\n",
    "plt.plot(ed[:-1],hh_stn,color='b',label='STN')\n",
    "plt.ylabel('Rate (Hz)')\n",
    "plt.legend()\n",
    "plt.xlim(x_lim)\n",
    "\n",
    "plt.subplot(4,1,3)\n",
    "plt.plot(xx_stn[:,1],xx_stn[:,0],'.',ms=2,color='b')\n",
    "plt.xlim(x_lim)\n",
    "\n",
    "#plt.xlabel('Time (msec)')\n",
    "plt.ylabel('Neuron Id.')\n",
    "\n",
    "plt.subplot(4,1,4)\n",
    "plt.plot(ed[:-1],hh_stn,color='b',label='STN')\n",
    "plt.plot(ed[:-1],hh_gpe,color='r',label='GPE')\n",
    "plt.legend()\n",
    "plt.xlim(x_lim)\n",
    "plt.xlabel('Time (msec)')\n",
    "plt.ylabel('Rate (Hz)')\n",
    "\n",
    "plt.show()"
   ]
  },
  {
   "cell_type": "markdown",
   "metadata": {},
   "source": [
    "# <font color=green>STN GPe Oscillations</font>\n",
    "### In the first we simulate the network with no input from the striatum for first 500ms. At 500ms we inhibit the GPE by increasing the firing rate of the striatal neurons. As soon as the striatum starts to inhibit the inhibitory neurons of GPe, oscillations gets going."
   ]
  },
  {
   "cell_type": "markdown",
   "metadata": {},
   "source": [
    "# <font color=blue>Describe</font>\n",
    "### Could you come up with a series of events that take place as we inhibit GPe neurons leading into stable oscillations. \n",
    "### Why the STN leads the oscillations? Maybe that gives you a clue to answer the previous question\n"
   ]
  },
  {
   "cell_type": "markdown",
   "metadata": {},
   "source": [
    "# <font color=salmon>TO DO</font>\n",
    "- Vary the parameters \n",
    "-- poi_rate_bkg_gpe, poi_rate_bkg_stn = 1400, poi_rate_bkg_str \n",
    "and study their effect of the oscillations. <br>\n",
    "Essentially check the oscillation rule dscribed above\n",
    "- How will you estimate the frequency of oscillations and if there are oscillations at all? <br>\n",
    "<font color=gray>An easy way to estimate frequency of oscillations is to counr the cycles -- not really. The correct way is to estimate the Fourier Transform (or spectrum) of the population activity. Go to stackoverflow and find out how spectrum can be estimated</font>\n",
    "- Once you have estimated the power spectrum using Fourier Transform you can use the following formulae to estimate what we call as the spectral entropy. When SE is zero you have pure oscillations and when it appraoches one you have weak or no oscillations\n",
    "```python\n",
    " pxx_norm = pxx/sum(pxx)\n",
    " se = -xx_norm*np.log(pxx_norm).T\n",
    "```python"
   ]
  },
  {
   "cell_type": "markdown",
   "metadata": {},
   "source": [
    "# <font color=salmon>TO DO</font>\n",
    "### Simulate DBS by inhbiting STN\n",
    "- If you want to check what will happen to oscillations if you excited the excitatory population (STN) use the following snippet\n",
    "- Also you may want to try what happens when GPE is inhibited and STN is excited or \n",
    "- GPE is inhibited and STN is excited -- this will be like mimicking deep brain stimulation treatment of PD patients\n",
    "```python\n",
    "pg_gen_dbs = nest.Create('poisson_generator',1,{'rate':poi_rate_dbs, 'start':1500.,'stop':2500.})\n",
    "if connect_stn_dbs:\n",
    "    print ('Connecting STN Inhibition -- DBS Condition')\n",
    "    #PG to STN\n",
    "    nest.Connect(pg_gen_dbs,st_neurons,syn_spec=\"poi_excitatory\")\n",
    "```python"
   ]
  },
  {
   "cell_type": "code",
   "execution_count": null,
   "metadata": {},
   "outputs": [],
   "source": []
  }
 ],
 "metadata": {
  "kernelspec": {
   "display_name": "Python 3",
   "language": "python",
   "name": "python3"
  },
  "language_info": {
   "codemirror_mode": {
    "name": "ipython",
    "version": 3
   },
   "file_extension": ".py",
   "mimetype": "text/x-python",
   "name": "python",
   "nbconvert_exporter": "python",
   "pygments_lexer": "ipython3",
   "version": "3.6.8"
  }
 },
 "nbformat": 4,
 "nbformat_minor": 2
}
