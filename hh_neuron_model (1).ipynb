{
 "cells": [
  {
   "cell_type": "code",
   "execution_count": null,
   "metadata": {},
   "outputs": [],
   "source": [
    "from IPython.display import HTML, display"
   ]
  },
  {
   "cell_type": "markdown",
   "metadata": {},
   "source": [
    "# <font color='green'>Hodgkin-Huxley Neuron Model </font>\n",
    "\n",
    "Hodgkin-Huxley model is the most 'complete' mathematical description of the action-potential generation in biological neurons. The model is complete in the sense that it provides mathematical equations that fit well with the voltage and time dependence of two most promiment currents involved in the generation of the action potential. \n",
    "\n",
    "## <font color='green'>Aims of the tutorial </font>\n",
    "### Simulate a Hodgkin-Huxley model\n",
    "### Study the effect of change in the conductance of the Na and K channels\n",
    "### Generate the input current and output firing rate curve\n",
    "\n",
    "## <font color='green'>Learnign outcomes</font>\n",
    "### An understanding of various components that affect the action potential e.g. threshold, shape and amplitude\n",
    "\n",
    "## <font color='green'>What will you do</font>\n",
    "### Execute the Python code and display the results and describe your observations\n",
    "### Write small code snippetes to perform certain simulations in loop"
   ]
  },
  {
   "cell_type": "markdown",
   "metadata": {},
   "source": [
    "## <font color='green'>Equivalent electrical circuit</font>\n",
    "A neuron membrane can be described as an electrical circuit with batteris, voltage dependent resistors and a capacitor. \n",
    "<img src=\"./Figures/neuron_synapse_circuit_model.png\">\n",
    "\n",
    "-  $C_m$ is the passive membrane capacitance\n",
    "-  $g_n$ are the active voltage-gated ion channels represented by electrical conductances (where 'n' is the specific ion channel) that depend on both voltage and time\n",
    "-  $g_L$ is the passive leak channel which accounrs for baseline flow of ions across the membrane and is represented by a linear conductance\n",
    "-  $E_n$ are the gradients driving the flow of ions (determined by intra- and extracellular concentrations and permeability of ions)\n",
    "- $g_{exc}$ is the excitatory synaptic conductance -- the so called 'conductance-based' synapse model\n",
    "- $g_{inh}$ is the inhibitory synaptic conductance -- the so called 'conductance-based' synapse model\n",
    "- $I_{exc}$ and $I_{inh}$ inhibotory synaptic currents -- when synapses are modelled as 'current-injections' as opposed to 'conductance changes'\n",
    "\n",
    "\n",
    "## <font color='green'>Mathematical equations</font>\n",
    "\n",
    "The differential equations governing the dynamics of voltage is given by:\n",
    "\n",
    "\\begin{eqnarray*}\n",
    "C_m\\frac{dV}{dt} & = & g_L(V-E_L) + \\bar{g_{Na}}m^3h(V-E_{Na}) + \\bar{g_K}n^4(V-E_K) + I_{inj} \\\\\n",
    "\\frac{dm}{dt} & = & \\alpha_m(1-m)-\\beta_mm \\\\\n",
    "\\frac{dh}{dt} & = & \\alpha_h(1-h)-\\beta_hh \\\\\n",
    "\\frac{dn}{dt} & = & \\alpha_n(1-n)-\\beta_nn \n",
    "\\end{eqnarray*}\n",
    "\n",
    "-  $I_{inj}$ is the injected current\n",
    "-  $\\bar{g_n}$ are the maximum conductances for a given channel (sodium Na, potassium K, and leak L) \n",
    "-  $E_n$ are the reversal potentials for a given channel \n",
    "-  $n$, $m$, and $h$ are the gating variables\n",
    "-  $\\alpha_x$ and $\\beta_x$ are voltage dependent variable (see below)"
   ]
  },
  {
   "cell_type": "markdown",
   "metadata": {},
   "source": [
    "## <font color='green'>Voltage-dependent rate variables</font>\n",
    "\n",
    "$\\alpha$ and $\\beta$ are the voltage-dependent rates at which the activation and inactivation gates are opening or closing, respectively.\n",
    "\n",
    "\\begin{eqnarray*}\n",
    "\\alpha_m & = & \\frac{-0.2 (V+25)}{exp\\big(2.5 -\\frac{V+50}{10}\\big)-1} \\\\\n",
    "\\beta_m & = & 4~exp\\big(-\\frac{V+50}{18}\\big) \\\\\n",
    "\\alpha_h & = & 0.07~exp\\big(-\\frac{V+40}{20}\\big) \\\\\n",
    "\\beta_h & = & \\frac{1}{exp\\big(3-\\frac{V+40}{10}\\big)+1} \\\\\n",
    "\\alpha_n & = & -\\frac{0.01 (V-10)}{exp\\big(1 - \\frac{V+20}{10}\\big)-1} \\\\\n",
    "\\beta_n & = & 0.0125~exp\\big(-\\frac{V+20}{80}\\big) \\\\\n",
    "\\end{eqnarray*}\n",
    "\n",
    "In the following cell we have python functions to calculate the values of $\\alpha$ and $\\beta$ variables and their steady state values of $m$, $h$, $n$"
   ]
  },
  {
   "cell_type": "code",
   "execution_count": null,
   "metadata": {},
   "outputs": [],
   "source": [
    "import numpy as np\n",
    "import matplotlib.pyplot as plt\n",
    "%matplotlib inline\n",
    "import pylab\n",
    "from scipy.integrate import odeint\n",
    "np.random.seed(1000)\n"
   ]
  },
  {
   "cell_type": "code",
   "execution_count": null,
   "metadata": {},
   "outputs": [],
   "source": [
    "# Sodium ion-channel rate functions\n",
    "def alpha_m(Vm):\n",
    "    return (0.1 * (- Vm - 25.)) / (np.exp(2.5 - (0.1 * (Vm + 50.))) - 1.0)\n",
    "\n",
    "def beta_m(Vm):\n",
    "    return 4.0 * np.exp(-(Vm + 50.) / 18.0)\n",
    "\n",
    "def alpha_h(Vm):\n",
    "    return 0.07 * np.exp(-(Vm + 40.) / 20.0)\n",
    "\n",
    "def beta_h(Vm):\n",
    "    return 1.0 / (np.exp(3.0 - (0.1 * (Vm + 40.))) + 1.0)\n",
    "  \n",
    "# Pottasium ion-channel rate functions\n",
    "def alpha_n(Vm):\n",
    "    return (0.015 * (10.0 - Vm - 20.)) / (np.exp(1.0 - (0.1 * (Vm + 20.) )) - 1.0)\n",
    "\n",
    "def beta_n(Vm):\n",
    "    return 0.125 * np.exp(-(Vm + 20.) / 80.0)\n",
    "\n",
    "# n, m, and h steady-state values\n",
    "\n",
    "def n_inf(Vm=0.0):\n",
    "    return alpha_n(Vm) / (alpha_n(Vm) + beta_n(Vm))\n",
    "\n",
    "def m_inf(Vm=0.0):\n",
    "    return alpha_m(Vm) / (alpha_m(Vm) + beta_m(Vm))\n",
    "\n",
    "def h_inf(Vm=0.0):\n",
    "    return alpha_h(Vm) / (alpha_h(Vm) + beta_h(Vm))"
   ]
  },
  {
   "cell_type": "markdown",
   "metadata": {},
   "source": [
    "## <font color='green'>Activation and inactivation curves of NA and K</font>"
   ]
  },
  {
   "cell_type": "code",
   "execution_count": null,
   "metadata": {},
   "outputs": [],
   "source": [
    "# Votage dependence of m, h, and n\n",
    "voltage = np.arange(-80, 100, 0.1)\n",
    "M = m_inf(voltage)\n",
    "H = h_inf(voltage)\n",
    "N = n_inf(voltage)\n",
    "\n",
    "plt.figure(figsize=(10, 5))\n",
    "plt.plot(voltage, M,linewidth=2, label=r'm')\n",
    "plt.plot(voltage, H,linewidth=2, label=r'h')\n",
    "plt.plot(voltage, N,linewidth=2, label=r'n')\n",
    "plt.xlabel('Voltage (mV)')\n",
    "plt.ylabel('Gating value')\n",
    "plt.legend()\n",
    "plt.show()"
   ]
  },
  {
   "cell_type": "markdown",
   "metadata": {},
   "source": [
    "# <font color=blue>Describe</font>\n",
    "### What do these shapes indicate? \n",
    "### What can we predict about the shape, amplitude and threshold of an action potential?\n"
   ]
  },
  {
   "cell_type": "code",
   "execution_count": null,
   "metadata": {},
   "outputs": [],
   "source": [
    "def compute_derivatives(y, t0):\n",
    "    dy = np.zeros((4,))\n",
    "    \n",
    "    Vm = y[0]\n",
    "    n = y[1]\n",
    "    m = y[2]\n",
    "    h = y[3]\n",
    "    \n",
    "    # dVm/dt\n",
    "    GK = (gK / Cm) * np.power(n, 4.0)\n",
    "    GNa = (gNa / Cm) * np.power(m, 3.0) * h\n",
    "    GL = gL / Cm\n",
    "    \n",
    "    dy[0] = (I_inj(t0) / Cm) - (GK * (Vm - VK)) - (GNa * (Vm - VNa)) - (GL * (Vm - Vl))\n",
    "    \n",
    "    # dn/dt\n",
    "    dy[1] = (alpha_n(Vm) * (1.0 - n)) - (beta_n(Vm) * n)\n",
    "    \n",
    "    # dm/dt\n",
    "    dy[2] = (alpha_m(Vm) * (1.0 - m)) - (beta_m(Vm) * m)\n",
    "    \n",
    "    # dh/dt\n",
    "    dy[3] = (alpha_h(Vm) * (1.0 - h)) - (beta_h(Vm) * h)\n",
    "    \n",
    "    return dy"
   ]
  },
  {
   "cell_type": "code",
   "execution_count": null,
   "metadata": {},
   "outputs": [],
   "source": [
    "# Start and end time (in milliseconds)\n",
    "tmin = 0.0\n",
    "tmax = 200.0\n",
    "\n",
    "# Average potassium channel conductance per unit area (mS/cm^2)\n",
    "gK = 80.0\n",
    "\n",
    "# Average sodoum channel conductance per unit area (mS/cm^2)\n",
    "gNa = 120.0\n",
    "\n",
    "# Average leak channel conductance per unit area (mS/cm^2)\n",
    "gL = 0.3\n",
    "\n",
    "# Membrane capacitance per unit area (uF/cm^2)\n",
    "Cm = 1.0\n",
    "\n",
    "# Potassium potential (mV)\n",
    "VK = -70.0\n",
    "\n",
    "# Sodium potential (mV)\n",
    "VNa = 50.0\n",
    "\n",
    "# Leak potential (mV)\n",
    "Vl = -65.\n",
    "\n",
    "# Time values\n",
    "T = np.linspace(tmin, tmax, 10000)\n",
    "\n",
    "# Potassium ion-channel rate functions"
   ]
  },
  {
   "cell_type": "code",
   "execution_count": null,
   "metadata": {},
   "outputs": [],
   "source": [
    "# Input stimulus -- The following generates a Current Pulse \n",
    "# of amplitude 'stim_amp', which starts as 'stim_start' and ends at 'stim_end'\n",
    "# Vary the input strength and stimulation durtion here\n",
    "def I_inj(t, stim_amp = 7., stim_start = 30.0, stim_end = 130.):\n",
    "    if 0.0 < t < stim_start:\n",
    "        return 0.0\n",
    "    elif stim_start < t < stim_end:\n",
    "        return stim_amp\n",
    "    elif stim_end < t < 191.0:\n",
    "        return 0.0\n",
    "    return 0.0"
   ]
  },
  {
   "cell_type": "code",
   "execution_count": null,
   "metadata": {},
   "outputs": [],
   "source": [
    "# State (Vm, n, m, h)\n",
    "Y = np.array([-65.0, n_inf(), m_inf(), h_inf()])\n",
    "# Solve ODE system\n",
    "Vy = odeint(compute_derivatives, Y, T)\n",
    "\n",
    "# Plot the results\n",
    "plt.figure(figsize=(20, 15))\n",
    "plt.subplot(311)\n",
    "plt.plot(T,Vy[:,0],linewidth=2,label='voltage')\n",
    "plt.legend()\n",
    "plt.ylabel('Voltage [mV]')\n",
    "plt.subplot(212)\n",
    "plt.plot(T,Vy[:,2],linewidth=2,label='m')\n",
    "plt.plot(T,Vy[:,3],linewidth=2,label='h')\n",
    "plt.plot(T,Vy[:,1],linewidth=2,label='n')\n",
    "plt.ylabel('Opening prob.')\n",
    "plt.xlabel('Time [msec]')\n",
    "plt.legend()\n",
    "\n",
    "plt.show()"
   ]
  },
  {
   "cell_type": "markdown",
   "metadata": {},
   "source": [
    "# <font color=blue>Describe</font>\n",
    "### How do the opening and closing of the Na and K channels relate to the shape of the action potential \n",
    "### Which channels are closed and opened in different phases of the action potential\n"
   ]
  },
  {
   "cell_type": "markdown",
   "metadata": {},
   "source": [
    "# <font color=salmon>TO DO</font>\n",
    "## Vary the Na conductance (gNa) and K conductance (gK) and study \n",
    "### 1. how the number of action potentials generated varies as a function of gNa and gK\n",
    "### 2. how the shape of the action potentials varies as a function of gNa and gK\n",
    "#### <font color=gray> Write a small code to count the number of action potentials. To this end you can write a small code to determine threshold cross from below. For this model you can set the spike threshold to -20mV. Alternatively, you can count the spikes manually. You can also write a small script to loop over different values of gNa and gK</font>"
   ]
  },
  {
   "cell_type": "code",
   "execution_count": null,
   "metadata": {},
   "outputs": [],
   "source": [
    "gK = 60\n",
    "gNa = 50\n",
    "Y = np.array([-65.0, n_inf(), m_inf(), h_inf()])\n",
    "# Solve ODE system\n",
    "Vy = odeint(compute_derivatives, Y, T)\n",
    "plt.figure(figsize=(20, 5))\n",
    "plt.plot(T,Vy[:,0],linewidth=5)\n",
    "plt.xlabel('Time [msec]')\n",
    "plt.ylabel('Voltage [mV]')\n",
    "plt.show()"
   ]
  },
  {
   "cell_type": "markdown",
   "metadata": {},
   "source": [
    "# <font color=green>Spike threshold</font>\n",
    "## There are two ways to determine the spike threshold\n",
    "### 1. Determine the minimum current necessary to generate an action potential. This is also referred to as Rheobase\n",
    "### 2. We can also find the voltage at the double derivative of the action potential waveform is maximal as shown below"
   ]
  },
  {
   "cell_type": "code",
   "execution_count": null,
   "metadata": {},
   "outputs": [],
   "source": [
    "# Spike threshold at the point of maximum double derivative\n",
    "def get_max_accelearation(vm):\n",
    "    vm2 = np.diff(vm)\n",
    "    #vm2 = np.diff(vm1)\n",
    "    vm2 = (vm2-np.mean(vm2))/np.std(vm2)\n",
    "    vm3 = vm2\n",
    "    vm3[vm3<2.5]=0;\n",
    "    xx = np.diff(vm3);\n",
    "    xx[xx<0]=0;\n",
    "    xx[xx>0]=1;\n",
    "    dx = np.diff(xx)\n",
    "    dx[dx<0]=0\n",
    "    thr_cross = pylab.find(dx==1.)+1 +3\n",
    "    return thr_cross"
   ]
  },
  {
   "cell_type": "code",
   "execution_count": null,
   "metadata": {},
   "outputs": [],
   "source": [
    "vm = Vy[:,0]\n",
    "spk_id = get_max_accelearation(vm)\n",
    "\n",
    "plt.figure(figsize=(12, 5))\n",
    "plt.plot(T,vm,linewidth=2,label='membrane potential')\n",
    "plt.plot(T[spk_id],vm[spk_id],'o',ms = 10,linewidth=5,label='spike time')\n",
    "plt.xlim((10,130))\n",
    "plt.legend()\n",
    "plt.show()"
   ]
  },
  {
   "cell_type": "markdown",
   "metadata": {},
   "source": [
    "# <font color=salmon>TO DO</font>\n",
    "### Vary the Na conductance (gNa) and K conductance (gK) and study spike threshold"
   ]
  },
  {
   "cell_type": "markdown",
   "metadata": {},
   "source": [
    "# <font color=green>Input current and output spike count</font>\n",
    "### Adapt the code below and study how input current amplitude determines the number of spikes"
   ]
  },
  {
   "cell_type": "code",
   "execution_count": null,
   "metadata": {},
   "outputs": [],
   "source": [
    "# Calculate the effect of injected current on the spike count\n",
    "# Input stimulus\n",
    "# Vary the input strength and stimulation durtion here\n",
    "def I_inj(t, stim_amp = 10., stim_start = 30.0, stim_end = 150.):\n",
    "    if 0.0 < t < stim_start:\n",
    "        return 0.0\n",
    "    elif stim_start < t < stim_end:\n",
    "        return stim_amp\n",
    "    elif stim_end < t < 200.0:\n",
    "        return 0.0\n",
    "    return 0.0\n",
    "\n",
    "Y = np.array([-65.0, n_inf(), m_inf(), h_inf()])\n",
    "# Solve ODE system\n",
    "Vy = odeint(compute_derivatives, Y, T)\n",
    "vm = Vy[:,0]\n",
    "spk_id = get_max_accelearation(vm)\n",
    "\n",
    "spike_count = len(spk_id)\n",
    "spike_count\n",
    "\n",
    "plt.figure(figsize=(12, 5))\n",
    "plt.clf()\n",
    "plt.plot(T,vm,linewidth=2,label='membrane potential')\n",
    "plt.plot(T[spk_id],vm[spk_id],'o',ms = 10,linewidth=5,label='spike time')\n",
    "#plt.xlim((2500,8000))\n",
    "plt.legend()\n",
    "plt.show()"
   ]
  },
  {
   "cell_type": "markdown",
   "metadata": {},
   "source": [
    "# <font color=salmon>TO DO</font>\n",
    "### Study the effect of injected current on the spike count\n",
    "#### <font color=gray>Write a loop around the above code and plot spike count as a function of injected current amplitude</font>\n"
   ]
  },
  {
   "cell_type": "markdown",
   "metadata": {},
   "source": [
    "# <font color=salmon>TO DO</font>\n",
    "#### In the above exercise you may have noticed that the number of spikes start to decrease at very high current amplitudes. Why does that happen? \n",
    "#### Investigate this by plotting the membrane voltage and corresponding K and Na openning/closing variables."
   ]
  },
  {
   "cell_type": "markdown",
   "metadata": {},
   "source": [
    "# <font color=salmon>TO DO</font>\n",
    "#### How can we estimate the effective time constant of the HH model? Think of a way and estimate the time constant\n",
    "### Describe what complications may arise in this way of estimation"
   ]
  },
  {
   "cell_type": "code",
   "execution_count": null,
   "metadata": {},
   "outputs": [],
   "source": []
  }
 ],
 "metadata": {
  "kernelspec": {
   "display_name": "Python 2",
   "language": "python",
   "name": "python2"
  },
  "language_info": {
   "codemirror_mode": {
    "name": "ipython",
    "version": 2
   },
   "file_extension": ".py",
   "mimetype": "text/x-python",
   "name": "python",
   "nbconvert_exporter": "python",
   "pygments_lexer": "ipython2",
   "version": "2.7.15"
  }
 },
 "nbformat": 4,
 "nbformat_minor": 2
}
