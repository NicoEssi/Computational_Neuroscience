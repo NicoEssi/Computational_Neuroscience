{
 "cells": [
  {
   "cell_type": "code",
   "execution_count": null,
   "metadata": {},
   "outputs": [],
   "source": [
    "from IPython.display import HTML, display"
   ]
  },
  {
   "cell_type": "markdown",
   "metadata": {},
   "source": [
    "# <font color='green'>Integrate and Fire Neuron Model </font>\n",
    "\n",
    "Hodgkin-Huxley model is a complete mathematical in the sense that it provides mathematical equations that fit well with the voltage and time dependence of two most promiment currents involved in the generation of the action potential. But this is a highly complex and non-linear model to allow for mathematical analysis both at single neuron level and at the network level. Moreover, computationally, HH model is very expensive, especially because the ODEs describing the dynamical can be stiff.\n",
    "\n",
    "Therefore, simple neuron models have been proposed. Linear integrate and fire model is one the simplest neuron model. It assumed that the Na and K conductances that constitute major non-linearities in the HH model are essentially only for setting up the spike threshold and spike shape. In most conditions, spike threshold is largely fixed and spike shape does not seem to tbe very important for information processing. Therefore, the Na and K conductance can be replaced by a fixed threshold $V_{th}$.\n",
    "\n",
    "Because, during the spike a neuron does not integrate synaptic inputs, the IAF neurons membrane potential is clamped to the resting membrane potential (the so-called refractory period). As soon as the neuron hits the threshold, a spike is registerd. \n",
    "\n",
    "## <font color='green'>Aims of the tutorial </font>\n",
    "### Get Familarized with a biological neuronal network simulation tool NEST\n",
    "### Simulate a Integrate-and-fire neuron model\n",
    "### Generate the input current and output firing rate curve of the IAF neuron model\n",
    "### Compare a single IAF and a population of IAFs in terms of how fast stimulus they can encode\n",
    "\n",
    "## <font color='green'>Learnign outcomes</font>\n",
    "### You should be able to write a simple code in NEST\n",
    "### Understand the limitations and strengths of the IAF neuron model\n",
    "\n",
    "## <font color='green'>What will you do</font>\n",
    "### Execute the Python code and display the results and describe your observations\n",
    "### Write small code snippetes to perform certain simulations in loop"
   ]
  },
  {
   "cell_type": "markdown",
   "metadata": {},
   "source": [
    "## <font color='green'>Equivalent electrical circuit</font>\n",
    "A neuron membrane can be described as an electrical circuit with batteris, voltage dependent resistors and a capacitor. \n",
    "<img src=\"./Figures/iaf_neuron_synapse_circuit_model.png\">\n",
    "The full figure about reprsents the HH model with synaptic inputs modelled as current or conductances. For the Integrate-and-fire neuron we do not consider the voltage dependent Na and K conductance (those covered with the gray box)\n",
    "-  $C_m$ is the passive membrane capacitance\n",
    "-  $g_K$ and $g_{NA}$ the voltage-gated ion channels have been removed\n",
    "-  $g_L$ is the passive leak channel which accounrs for baseline flow of ions across the membrane and is represented by a linear conductance\n",
    "-  $E_L$ Leak voltage or resting membrane potential\n",
    "-  Synapses can be connected as we did for the HH model\n",
    "- $g_{exc}$ is the excitatory synaptic conductance -- the so called 'conductance-based' synapse model\n",
    "- $g_{inh}$ is the inhibitory synaptic conductance -- the so called 'conductance-based' synapse model\n",
    "- $I_{exc}$ and $I_{inh}$ inhibotory synaptic currents -- when synapses are modelled as 'current-injections' as opposed to 'conductance changes'\n",
    "\n",
    "\n",
    "## <font color='green'>Mathematical equation</font>\n",
    "\n",
    "The differential equations governing the dynamics of voltage is given by:\n",
    "\n",
    "when $V < V_{th}$ and $is\\_ref=0$\n",
    "\\begin{eqnarray*}\n",
    "C_m\\frac{dV}{dt} & = & g_L(V-E_L) + I_{inj} + I_{syn}\\\\\n",
    "\\end{eqnarray*}\n",
    "when $V \\geq V_{th}$ and $is\\_ref < t_{ref}$ $V \\rightarrow E_L$\n",
    "\n",
    "when $V \\geq V_{th}$ and $is\\_ref = t_{ref}$ $V\\rightarrow E_L$ and $t_{spike} = 1$\n",
    "\n",
    "-  $I_{inj}$ is the injected current\n",
    "- $I_{syn}$ is total synaptic current (whether generates by exc or inh synapses)\n",
    "-  $\\bar{g_L}$ are the maximum conductances for a given channel (sodium Na, potassium K, and leak L)\n",
    "-  $E_L$ are the leak voltage or the resting membrane potential "
   ]
  },
  {
   "cell_type": "code",
   "execution_count": null,
   "metadata": {},
   "outputs": [],
   "source": [
    "import numpy as np\n",
    "import pylab as plt\n",
    "import matplotlib as matplt\n",
    "%matplotlib inline\n",
    "import nest\n",
    "import time\n",
    "np.random.seed(1000)\n",
    "nest.ResetKernel()"
   ]
  },
  {
   "cell_type": "markdown",
   "metadata": {},
   "source": [
    "## <font color='green'>Create a neuron in NEST</font>"
   ]
  },
  {
   "cell_type": "code",
   "execution_count": null,
   "metadata": {},
   "outputs": [],
   "source": [
    "# Create a neuron in NEST\n",
    "# Lets create a single IAF neuron to which you can conect current-based synapses (More on this later)\n",
    "iaf_neuron = nest.Create('iaf_psc_alpha',1) \n",
    "\n",
    "# To know the parameters of the neuron\n",
    "nest.GetStatus(iaf_neuron)"
   ]
  },
  {
   "cell_type": "markdown",
   "metadata": {},
   "source": [
    "## <font color='green'>Changing neuron parameters in NEST</font>"
   ]
  },
  {
   "cell_type": "code",
   "execution_count": null,
   "metadata": {},
   "outputs": [],
   "source": [
    "# In case you want to change the To change the neuron parameters\n",
    "neuron_params = {'V_th': -54., \n",
    "                 'V_reset': -70.0, \n",
    "                 't_ref': 2.0, \n",
    "                 'E_L' : -70.,\n",
    "                 'C_m': 200.}\n",
    "nest.SetStatus(iaf_neuron,neuron_params)\n",
    "nest.GetStatus(iaf_neuron,{'C_m'})"
   ]
  },
  {
   "cell_type": "markdown",
   "metadata": {},
   "source": [
    "## <font color='green'>Input current and output firing rate response of an IAF neuron</font>"
   ]
  },
  {
   "cell_type": "code",
   "execution_count": null,
   "metadata": {},
   "outputs": [],
   "source": [
    "# Create a current generator to inject current\n",
    "\n",
    "dc_params = {'amplitude': 340.,\n",
    "            'start': 100.,\n",
    "            'stop': 600.}\n",
    "\n",
    "dc_gen = nest.Create('dc_generator',1)\n",
    "nest.SetStatus(dc_gen,dc_params)\n",
    "nest.GetStatus(dc_gen)\n",
    "\n",
    "# Connect the dc-genertor to the neuron\n",
    "nest.Connect(dc_gen,iaf_neuron)\n",
    "\n",
    "# Also you would like to record the neuron membrane potential and spikes\n",
    "# So we connect a voltmeter \n",
    "\n",
    "multimeter = nest.Create(\"multimeter\")\n",
    "nest.SetStatus(multimeter, {\"withtime\":True, \"record_from\":[\"V_m\"]})\n",
    "\n",
    "# and spike detector to the neuron\n",
    "spikedetector = nest.Create(\"spike_detector\",\n",
    "                params={\"withgid\": True, \"withtime\": True})\n",
    "\n",
    "# Finally connect them to the neuron\n",
    "nest.Connect(multimeter, iaf_neuron)\n",
    "nest.Connect(iaf_neuron, spikedetector)"
   ]
  },
  {
   "cell_type": "code",
   "execution_count": null,
   "metadata": {},
   "outputs": [],
   "source": [
    "# Simulate the neuron\n",
    "nest.Simulate(1000.) # Simulation time in msec\n"
   ]
  },
  {
   "cell_type": "code",
   "execution_count": null,
   "metadata": {},
   "outputs": [],
   "source": [
    "# And display the membrane potential\n",
    "dmm = nest.GetStatus(multimeter)[0]\n",
    "Vms = dmm[\"events\"][\"V_m\"]\n",
    "mem_ts = dmm[\"events\"][\"times\"]\n",
    "\n",
    "# And get the spike events\n",
    "dSD = nest.GetStatus(spikedetector,keys=\"events\")[0]\n",
    "evs = dSD[\"senders\"]\n",
    "spk_ts = dSD[\"times\"]\n",
    "\n",
    "plt.figure(figsize=(20, 5))\n",
    "plt.plot(mem_ts,Vms,linewidth=2,label='voltage')\n",
    "plt.plot(spk_ts, np.ones(len(spk_ts))*-54., \".\",ms=20)\n",
    "plt.ylim(-75,-50)\n",
    "plt.xlim(0,1000)\n",
    "plt.legend()\n",
    "plt.ylabel('Voltage [mV]')\n",
    "plt.xlabel('Time [msec]')\n",
    "plt.legend()\n",
    "plt.show()\n",
    "#plt.show()"
   ]
  },
  {
   "cell_type": "markdown",
   "metadata": {},
   "source": [
    "# <font color=blue>Describe</font>\n",
    "### From the above what are the similarities and differences between IAF and HH models\n",
    "### OR what features of a biological neuron you think are being captured by the IAF neuron\n"
   ]
  },
  {
   "cell_type": "markdown",
   "metadata": {},
   "source": [
    "# <font color=salmon>TO DO</font>\n",
    "## Generate the input current and output firing rate curve of the IAF neuron \n",
    "#### <font color=gray> Write a code that increases the injected current amplitude and counts the number of spikes. </font>\n",
    "#### Note that everytime you call the NEST function nest.simulate the internal clock is advanced. So you need to keep track of the time at which you simulator is operating"
   ]
  },
  {
   "cell_type": "code",
   "execution_count": null,
   "metadata": {},
   "outputs": [],
   "source": [
    "nest.SetStatus(dc_gen,{'stop':1e8}) # the stimulator is on forever\n",
    "stim_duration = 200. # msec\n",
    "inter_stim_period = 500. # to cool down the neuron so it goes back to resting membrane potential\n",
    "\n",
    "stim_amplitude = np.linspace(320.,600.,50)\n",
    "dmm = nest.GetStatus(multimeter)[0]\n",
    "mem_ts = dmm[\"events\"][\"times\"]\n",
    "last_time_stamp = mem_ts[-1]\n",
    "\n",
    "spk_count = np.zeros(len(stim_amplitude))\n",
    "for ii in range(len(stim_amplitude)):\n",
    "    nest.SetStatus(dc_gen,{'amplitude':stim_amplitude[ii]})\n",
    "    nest.Simulate(stim_duration)\n",
    "    # extract spikes that occured in the previous stim_duration\n",
    "    # Get the mempot\n",
    "    dmm = nest.GetStatus(multimeter)[0]\n",
    "    mem_ts = dmm[\"events\"][\"times\"]\n",
    "    last_time_stamp = mem_ts[-1]\n",
    "    # get the spikes\n",
    "    dSD = nest.GetStatus(spikedetector,keys=\"events\")[0]\n",
    "    spk_ts = dSD[\"times\"]\n",
    "    spk_in_previous_stim = spk_ts[spk_ts>=last_time_stamp - stim_duration]\n",
    "    spk_count[ii] = len(spk_in_previous_stim)\n",
    "    nest.SetStatus(dc_gen,{'amplitude':0.}) # reduce the \n",
    "    nest.Simulate(inter_stim_period)"
   ]
  },
  {
   "cell_type": "code",
   "execution_count": null,
   "metadata": {},
   "outputs": [],
   "source": [
    "# Get the mempot\n",
    "dmm = nest.GetStatus(multimeter)[0]\n",
    "Vms = dmm[\"events\"][\"V_m\"]\n",
    "mem_ts = dmm[\"events\"][\"times\"]\n",
    "\n",
    "plt.figure(figsize=(20, 5))\n",
    "\n",
    "plt.subplot(2,1,1)\n",
    "plt.plot(mem_ts,Vms,linewidth=2,label='voltage')\n",
    "plt.ylim(-75,-50)\n",
    "plt.subplot(2,1,2)\n",
    "plt.plot(stim_amplitude,spk_count)"
   ]
  },
  {
   "cell_type": "markdown",
   "metadata": {},
   "source": [
    "# IAF Neuron with noise inputs"
   ]
  },
  {
   "cell_type": "code",
   "execution_count": null,
   "metadata": {},
   "outputs": [],
   "source": [
    "nest.ResetKernel()\n",
    "iaf_neuron = nest.Create('iaf_psc_alpha',1) \n",
    "# In case you want to change the To change the neuron parameters\n",
    "neuron_params = {'V_th': -54., \n",
    "                 'V_reset': -70.0, \n",
    "                 't_ref': 2.0, \n",
    "                 'E_L' : -70.,\n",
    "                 'C_m': 200.}\n",
    "nest.SetStatus(iaf_neuron,neuron_params)\n",
    "nest.GetStatus(iaf_neuron,{'C_m'})\n",
    "# Create a current generator to inject current\n",
    "\n",
    "# initially we set it to zero so we can change in the loop\n",
    "noise_params = {'mean': 300.,\n",
    "                'std': 100.\n",
    "               }\n",
    "\n",
    "noise_gen = nest.Create('noise_generator',1)\n",
    "nest.SetStatus(noise_gen,noise_params)\n",
    "nest.GetStatus(noise_gen)\n",
    "\n",
    "# Connect the dc-genertor to the neuron\n",
    "nest.Connect(noise_gen,iaf_neuron)\n",
    "\n",
    "# Also you would like to record the neuron membrane potential and spikes\n",
    "# So we connect a voltmeter \n",
    "\n",
    "multimeter = nest.Create(\"multimeter\")\n",
    "nest.SetStatus(multimeter, {\"withtime\":True, \"record_from\":[\"V_m\"]})\n",
    "\n",
    "# and spike detector to the neuron\n",
    "spikedetector = nest.Create(\"spike_detector\",\n",
    "                params={\"withgid\": True, \"withtime\": True})\n",
    "\n",
    "# Finally connect them to the neuron\n",
    "nest.Connect(multimeter, iaf_neuron)\n",
    "nest.Connect(iaf_neuron, spikedetector)\n",
    "\n",
    "nest.Simulate(1000.)"
   ]
  },
  {
   "cell_type": "code",
   "execution_count": null,
   "metadata": {},
   "outputs": [],
   "source": [
    "# And display the membrane potential\n",
    "dmm = nest.GetStatus(multimeter)[0]\n",
    "Vms = dmm[\"events\"][\"V_m\"]\n",
    "mem_ts = dmm[\"events\"][\"times\"]\n",
    "\n",
    "# And get the spike events\n",
    "dSD = nest.GetStatus(spikedetector,keys=\"events\")[0]\n",
    "evs = dSD[\"senders\"]\n",
    "spk_ts = dSD[\"times\"]\n",
    "\n",
    "plt.figure(figsize=(20, 5))\n",
    "plt.plot(mem_ts,Vms,linewidth=2,label='voltage')\n",
    "plt.plot(spk_ts, np.ones(len(spk_ts))*-54., \".\",ms=20,label='spikes')\n",
    "plt.ylim(-75,-50)\n",
    "plt.xlim(0,1000)\n",
    "plt.ylabel('Voltage [mV]')\n",
    "plt.xlabel('Time [msec]')\n",
    "plt.legend()\n",
    "plt.show()\n",
    "#plt.show()"
   ]
  },
  {
   "cell_type": "markdown",
   "metadata": {},
   "source": [
    "# Transfer function for noise injection\n",
    "## We will reset the nest kernel and recreate the devices etc. otherwise the nest clock will go very far in time\n",
    "### Change the mean and standard deviation of the input and count the spikes\n",
    "### In the following we will only change the mean"
   ]
  },
  {
   "cell_type": "code",
   "execution_count": null,
   "metadata": {},
   "outputs": [],
   "source": [
    "\n",
    "stim_duration = 200. # msec\n",
    "inter_stim_period = 500. # to cool down the neuron so it goes back to resting membrane potential\n",
    "\n",
    "stim_mean = np.linspace(320.,600.,10)\n",
    "dmm = nest.GetStatus(multimeter)[0]\n",
    "mem_ts = dmm[\"events\"][\"times\"]\n",
    "last_time_stamp = mem_ts[-1]\n",
    "\n",
    "spk_count = np.zeros(len(stim_mean))\n",
    "for ii in range(len(stim_mean)):\n",
    "    nest.SetStatus(noise_gen,{'mean':stim_mean[ii],'std':100.})\n",
    "    nest.Simulate(stim_duration)\n",
    "    # extract spikes that occured in the previous stim_duration\n",
    "    # Get the mempot\n",
    "    dmm = nest.GetStatus(multimeter)[0]\n",
    "    mem_ts = dmm[\"events\"][\"times\"]\n",
    "    last_time_stamp = mem_ts[-1]\n",
    "    # get the spikes\n",
    "    dSD = nest.GetStatus(spikedetector,keys=\"events\")[0]\n",
    "    spk_ts = dSD[\"times\"]\n",
    "    spk_in_previous_stim = spk_ts[spk_ts>=last_time_stamp - stim_duration]\n",
    "    spk_count[ii] = len(spk_in_previous_stim)\n",
    "    \n",
    "    nest.SetStatus(noise_gen,{'mean':0.,'std':0.})\n",
    "    nest.Simulate(inter_stim_period)\n",
    "    "
   ]
  },
  {
   "cell_type": "code",
   "execution_count": null,
   "metadata": {},
   "outputs": [],
   "source": [
    "print(len(stim_mean))\n",
    "print(len(spk_count))"
   ]
  },
  {
   "cell_type": "code",
   "execution_count": null,
   "metadata": {},
   "outputs": [],
   "source": [
    "# Get the mempot\n",
    "dmm = nest.GetStatus(multimeter)[0]\n",
    "Vms = dmm[\"events\"][\"V_m\"]\n",
    "mem_ts = dmm[\"events\"][\"times\"]\n",
    "\n",
    "plt.figure(figsize=(20, 5))\n",
    "\n",
    "plt.subplot(2,1,1)\n",
    "plt.plot(mem_ts,Vms,linewidth=2,label='voltage')\n",
    "plt.ylim(-75,-50)\n",
    "plt.subplot(2,1,2)\n",
    "plt.plot(stim_mean,spk_count)"
   ]
  },
  {
   "cell_type": "markdown",
   "metadata": {},
   "source": [
    "# <font color=blue>Describe</font>\n",
    "### What is the main difference between DC injection and Noise Injection in terms of the IAF transfer function shapes"
   ]
  },
  {
   "cell_type": "markdown",
   "metadata": {},
   "source": [
    "# Stimulus Encoding by a population of neurons \n",
    "### Now we will test how fast a population neurons driven by either DC input or noisy input can respond to a stimulus pulse."
   ]
  },
  {
   "cell_type": "code",
   "execution_count": null,
   "metadata": {},
   "outputs": [],
   "source": [
    "nest.ResetKernel()\n",
    "# Lets create 100 neurons\n",
    "N = 100\n",
    "iaf_neuron = nest.Create('iaf_psc_alpha',N) \n",
    "# Each neuron is identical \n",
    "neuron_params = {'V_th': -54., \n",
    "                 'V_reset': -70.0, \n",
    "                 't_ref': 2.0, \n",
    "                 'E_L' : -70.,\n",
    "                 'C_m': 200.}\n",
    "nest.SetStatus(iaf_neuron,neuron_params)\n",
    "\n",
    "# In this setup we will firt inject DC in all the neurons and then Noise\n",
    "# In the presence of each we will inject a small amount of dc pulse -- lets call it dc_signal\n",
    "# The DC\n",
    "dc_params = {'amplitude': 340.,\n",
    "            'start': 100.,\n",
    "            'stop': 900.}\n",
    "dc_gen = nest.Create('dc_generator',1)\n",
    "nest.SetStatus(dc_gen,dc_params)\n",
    "\n",
    "# The noise\n",
    "noise_params = {'mean': 300.,\n",
    "                'std': 100.,\n",
    "                'start': 1000.,\n",
    "                'stop': 1800.,\n",
    "               }\n",
    "noise_gen = nest.Create('noise_generator',1)\n",
    "nest.SetStatus(noise_gen,noise_params)\n",
    "\n",
    "signal_amp = 50.\n",
    "dc_stim_start = 270.\n",
    "dc_stim_end = 370.\n",
    "noise_stim_start = 1270.\n",
    "noise_stim_end = 1370.\n",
    "\n",
    "# The signal -- this will injected from 200 to 700 ms and then from 1100 to 1600ms\n",
    "signal_params_1 = {'amplitude': signal_amp,\n",
    "            'start': dc_stim_start,\n",
    "            'stop': dc_stim_end}\n",
    "signal_gen_1 = nest.Create('dc_generator',1)\n",
    "nest.SetStatus(signal_gen_1,signal_params_1)\n",
    "\n",
    "# THis is identical to the above one but will switch on at a different time\n",
    "signal_params_2 = {'amplitude': signal_amp,\n",
    "            'start': noise_stim_start,\n",
    "            'stop': noise_stim_end}\n",
    "signal_gen_2 = nest.Create('dc_generator',1)\n",
    "nest.SetStatus(signal_gen_2,signal_params_2)\n",
    "\n",
    "# Connect the dc-genertor to the neuron\n",
    "nest.Connect(noise_gen,iaf_neuron)\n",
    "nest.Connect(dc_gen,iaf_neuron)\n",
    "nest.Connect(signal_gen_1,iaf_neuron)\n",
    "nest.Connect(signal_gen_2,iaf_neuron)\n",
    "\n",
    "# Now we need to record the spike detector to the neuron\n",
    "spikedetector = nest.Create(\"spike_detector\",\n",
    "                params={\"withgid\": True, \"withtime\": True})\n",
    "\n",
    "# Finally connect them to the neuron\n",
    "nest.Connect(iaf_neuron, spikedetector)\n",
    "\n",
    "nest.Simulate(1500.)\n"
   ]
  },
  {
   "cell_type": "code",
   "execution_count": null,
   "metadata": {},
   "outputs": [],
   "source": [
    "dSD = nest.GetStatus(spikedetector,keys=\"events\")[0]\n",
    "evs = dSD[\"senders\"]\n",
    "spk_ts = dSD[\"times\"]\n",
    "bin_width = 2.#msec\n",
    "ed = np.arange(0.,2000.,bin_width)\n",
    "hh,ed1 = np.histogram(spk_ts,ed)\n",
    "hh = 1e3*hh/np.float(N)/bin_width\n",
    "\n",
    "dc_tx = np.arange(0,1000,1)\n",
    "dc_stim = np.zeros(np.size(dc_tx))\n",
    "dc_stim[int(dc_stim_start):int(dc_stim_end)]=20\n",
    "\n",
    "noise_tx = np.arange(1000,2000,1)\n",
    "noise_stim = np.zeros(np.size(dc_tx))\n",
    "noise_stim[int(noise_stim_start)-1000:int(noise_stim_end)-1000]=20\n",
    "\n",
    "\n",
    "plt.figure(figsize=(20, 10))\n",
    "plt.subplot(2,2,1)\n",
    "plt.plot(spk_ts,evs,'.')\n",
    "plt.xlim(0,1000)\n",
    "plt.xlabel('Time [msec]')\n",
    "plt.ylabel('Neuron id.')\n",
    "plt.xlim(200,400)\n",
    "\n",
    "plt.subplot(2,2,3)\n",
    "plt.plot(ed1[:-1],hh)\n",
    "plt.plot(dc_tx,dc_stim,lw=2)\n",
    "plt.xlim(0,1000)\n",
    "plt.ylabel('Spike rate')\n",
    "plt.xlim(200,400)\n",
    "\n",
    "#plt.legend('Average response firing rate','Input')\n",
    "\n",
    "plt.subplot(2,2,2)\n",
    "plt.plot(spk_ts,evs,'.')\n",
    "plt.xlim(1000,2000)\n",
    "plt.xlabel('Time [msec]')\n",
    "plt.ylabel('Neuron id.')\n",
    "plt.xlim(1200,1400)\n",
    "\n",
    "plt.subplot(2,2,4)\n",
    "plt.plot(ed1[:-1],hh)\n",
    "plt.xlim(1000,2000)\n",
    "plt.ylim(0,100)\n",
    "plt.plot(noise_tx,noise_stim,lw=2)\n",
    "plt.ylabel('Spike rate')\n",
    "#plt.legend('Average response firing rate','Input')\n",
    "plt.xlim(1200,1400)\n"
   ]
  },
  {
   "cell_type": "markdown",
   "metadata": {},
   "source": [
    "# <font color=blue>Describe</font>\n",
    "### What is the difference in the response of a population of IAF neurons deriven by DC input or by Noise input"
   ]
  },
  {
   "cell_type": "markdown",
   "metadata": {},
   "source": [
    "# <font color=salmon>TO DO</font>\n",
    "## In the above explore the role of changing the mean and variance of the noise input on the speed of response. The expectation is that as you increase the std of the noise the population become faster"
   ]
  },
  {
   "cell_type": "markdown",
   "metadata": {},
   "source": [
    "# <font color=salmon>TO DO</font>\n",
    "## Summarize your observations and conclusions."
   ]
  }
 ],
 "metadata": {
  "kernelspec": {
   "display_name": "Python 3",
   "language": "python",
   "name": "python3"
  },
  "language_info": {
   "codemirror_mode": {
    "name": "ipython",
    "version": 3
   },
   "file_extension": ".py",
   "mimetype": "text/x-python",
   "name": "python",
   "nbconvert_exporter": "python",
   "pygments_lexer": "ipython3",
   "version": "3.7.6"
  }
 },
 "nbformat": 4,
 "nbformat_minor": 2
}
